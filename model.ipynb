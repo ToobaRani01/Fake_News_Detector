{
 "cells": [
  {
   "cell_type": "markdown",
   "id": "8320fc2e",
   "metadata": {},
   "source": [
    "### Step 1. Dataset Load & Exploration\n"
   ]
  },
  {
   "cell_type": "markdown",
   "id": "ff2c29b8",
   "metadata": {},
   "source": [
    "### 1. Import Libraries"
   ]
  },
  {
   "cell_type": "code",
   "execution_count": 147,
   "id": "f6f1909d",
   "metadata": {},
   "outputs": [],
   "source": [
    "# import nltk\n",
    "# import os\n",
    "\n",
    "# # Set the NLTK data path explicitly\n",
    "# nltk.data.path.append(r\"C:\\Users\\Hp\\AppData\\Roaming\\nltk_data\")\n",
    "\n",
    "# # Re-download NLTK resources\n",
    "# try:\n",
    "#     nltk.download('punkt_tab', download_dir=r\"C:\\Users\\Hp\\AppData\\Roaming\\nltk_data\")\n",
    "#     nltk.download('stopwords', download_dir=r\"C:\\Users\\Hp\\AppData\\Roaming\\nltk_data\")\n",
    "#     nltk.download('wordnet', download_dir=r\"C:\\Users\\Hp\\AppData\\Roaming\\nltk_data\")\n",
    "#     print(\"NLTK resources downloaded successfully.\")\n",
    "# except Exception as e:\n",
    "#     print(f\"Error downloading NLTK resources: {e}\")"
   ]
  },
  {
   "cell_type": "code",
   "execution_count": 148,
   "id": "78fe10b8",
   "metadata": {},
   "outputs": [],
   "source": [
    "\n",
    "# from nltk.tokenize import word_tokenize\n",
    "# from nltk.corpus import stopwords\n",
    "# from nltk.stem import WordNetLemmatizer\n",
    "\n",
    "# # Set NLTK data path\n",
    "# nltk.data.path.append(r\"C:\\Users\\Hp\\AppData\\Roaming\\nltk_data\")\n",
    "\n",
    "# # Test NLTK components\n",
    "# try:\n",
    "#     print(\"Testing word_tokenize:\", word_tokenize(\"This is a test sentence.\"))\n",
    "#     print(\"Testing stopwords:\", stopwords.words('english')[:5])\n",
    "#     print(\"Testing lemmatizer:\", WordNetLemmatizer().lemmatize(\"running\"))\n",
    "# except Exception as e:\n",
    "#     print(f\"Error testing NLTK components: {e}\")"
   ]
  },
  {
   "cell_type": "code",
   "execution_count": 167,
   "id": "f50f53ae",
   "metadata": {},
   "outputs": [],
   "source": [
    "import pandas as pd \n",
    "import numpy as np\n",
    "import matplotlib.pyplot as plt\n",
    "import seaborn as sns\n",
    "import os\n",
    "import string\n",
    "import re\n",
    "import nltk\n",
    "from nltk.corpus import stopwords\n",
    "from nltk.tokenize import word_tokenize\n",
    "from nltk.stem import WordNetLemmatizer\n",
    "from nltk.corpus import stopwords\n",
    "from nltk.tokenize import word_tokenize\n",
    "from nltk.stem import WordNetLemmatizer\n",
    "from sklearn.feature_extraction.text import TfidfVectorizer\n",
    "from sklearn.model_selection import train_test_split\n",
    "from sklearn.linear_model import LogisticRegression\n"
   ]
  },
  {
   "cell_type": "code",
   "execution_count": 150,
   "id": "c3f4f44d",
   "metadata": {},
   "outputs": [],
   "source": [
    "# Set NLTK data path\n",
    "nltk.data.path = [r\"C:\\Users\\Hp\\AppData\\Roaming\\nltk_data\"]"
   ]
  },
  {
   "cell_type": "code",
   "execution_count": 151,
   "id": "066af88f",
   "metadata": {},
   "outputs": [
    {
     "name": "stdout",
     "output_type": "stream",
     "text": [
      "NLTK resources verified.\n"
     ]
    }
   ],
   "source": [
    "try:\n",
    "    nltk.download('punkt_tab', download_dir=r\"C:\\Users\\Hp\\AppData\\Roaming\\nltk_data\", quiet=True)\n",
    "    nltk.download('stopwords', download_dir=r\"C:\\Users\\Hp\\AppData\\Roaming\\nltk_data\", quiet=True)\n",
    "    nltk.download('wordnet', download_dir=r\"C:\\Users\\Hp\\AppData\\Roaming\\nltk_data\", quiet=True)\n",
    "    print(\"NLTK resources verified.\")\n",
    "except Exception as e:\n",
    "    print(f\"Error downloading NLTK resources: {e}\")"
   ]
  },
  {
   "cell_type": "markdown",
   "id": "d1b3fa8d",
   "metadata": {},
   "source": [
    "### 2. Load Both CSV Files"
   ]
  },
  {
   "cell_type": "code",
   "execution_count": 152,
   "id": "9f0000eb",
   "metadata": {},
   "outputs": [],
   "source": [
    "df_fake = pd.read_csv(\"fake.csv\")\n",
    "df_real = pd.read_csv(\"true.csv\")"
   ]
  },
  {
   "cell_type": "markdown",
   "id": "2ba75b63",
   "metadata": {},
   "source": [
    "### 3. Add a label Column"
   ]
  },
  {
   "cell_type": "code",
   "execution_count": 153,
   "id": "886112c1",
   "metadata": {},
   "outputs": [],
   "source": [
    "df_fake[\"label\"] = 0 \n",
    "df_real[\"label\"] = 1"
   ]
  },
  {
   "cell_type": "markdown",
   "id": "a2aec340",
   "metadata": {},
   "source": [
    "### 4. Merge Both DataFrames"
   ]
  },
  {
   "cell_type": "code",
   "execution_count": 154,
   "id": "c5307b1f",
   "metadata": {},
   "outputs": [],
   "source": [
    "df = pd.concat( [df_fake , df_real ] , ignore_index= True)"
   ]
  },
  {
   "cell_type": "markdown",
   "id": "f50f0c9d",
   "metadata": {},
   "source": [
    "### Explore"
   ]
  },
  {
   "cell_type": "code",
   "execution_count": 155,
   "id": "e86695bc",
   "metadata": {},
   "outputs": [
    {
     "data": {
      "text/html": [
       "<div>\n",
       "<style scoped>\n",
       "    .dataframe tbody tr th:only-of-type {\n",
       "        vertical-align: middle;\n",
       "    }\n",
       "\n",
       "    .dataframe tbody tr th {\n",
       "        vertical-align: top;\n",
       "    }\n",
       "\n",
       "    .dataframe thead th {\n",
       "        text-align: right;\n",
       "    }\n",
       "</style>\n",
       "<table border=\"1\" class=\"dataframe\">\n",
       "  <thead>\n",
       "    <tr style=\"text-align: right;\">\n",
       "      <th></th>\n",
       "      <th>title</th>\n",
       "      <th>text</th>\n",
       "      <th>subject</th>\n",
       "      <th>date</th>\n",
       "      <th>label</th>\n",
       "    </tr>\n",
       "  </thead>\n",
       "  <tbody>\n",
       "    <tr>\n",
       "      <th>0</th>\n",
       "      <td>Donald Trump Sends Out Embarrassing New Year’...</td>\n",
       "      <td>Donald Trump just couldn t wish all Americans ...</td>\n",
       "      <td>News</td>\n",
       "      <td>December 31, 2017</td>\n",
       "      <td>0</td>\n",
       "    </tr>\n",
       "    <tr>\n",
       "      <th>1</th>\n",
       "      <td>Drunk Bragging Trump Staffer Started Russian ...</td>\n",
       "      <td>House Intelligence Committee Chairman Devin Nu...</td>\n",
       "      <td>News</td>\n",
       "      <td>December 31, 2017</td>\n",
       "      <td>0</td>\n",
       "    </tr>\n",
       "    <tr>\n",
       "      <th>2</th>\n",
       "      <td>Sheriff David Clarke Becomes An Internet Joke...</td>\n",
       "      <td>On Friday, it was revealed that former Milwauk...</td>\n",
       "      <td>News</td>\n",
       "      <td>December 30, 2017</td>\n",
       "      <td>0</td>\n",
       "    </tr>\n",
       "    <tr>\n",
       "      <th>3</th>\n",
       "      <td>Trump Is So Obsessed He Even Has Obama’s Name...</td>\n",
       "      <td>On Christmas day, Donald Trump announced that ...</td>\n",
       "      <td>News</td>\n",
       "      <td>December 29, 2017</td>\n",
       "      <td>0</td>\n",
       "    </tr>\n",
       "    <tr>\n",
       "      <th>4</th>\n",
       "      <td>Pope Francis Just Called Out Donald Trump Dur...</td>\n",
       "      <td>Pope Francis used his annual Christmas Day mes...</td>\n",
       "      <td>News</td>\n",
       "      <td>December 25, 2017</td>\n",
       "      <td>0</td>\n",
       "    </tr>\n",
       "  </tbody>\n",
       "</table>\n",
       "</div>"
      ],
      "text/plain": [
       "                                               title  \\\n",
       "0   Donald Trump Sends Out Embarrassing New Year’...   \n",
       "1   Drunk Bragging Trump Staffer Started Russian ...   \n",
       "2   Sheriff David Clarke Becomes An Internet Joke...   \n",
       "3   Trump Is So Obsessed He Even Has Obama’s Name...   \n",
       "4   Pope Francis Just Called Out Donald Trump Dur...   \n",
       "\n",
       "                                                text subject  \\\n",
       "0  Donald Trump just couldn t wish all Americans ...    News   \n",
       "1  House Intelligence Committee Chairman Devin Nu...    News   \n",
       "2  On Friday, it was revealed that former Milwauk...    News   \n",
       "3  On Christmas day, Donald Trump announced that ...    News   \n",
       "4  Pope Francis used his annual Christmas Day mes...    News   \n",
       "\n",
       "                date  label  \n",
       "0  December 31, 2017      0  \n",
       "1  December 31, 2017      0  \n",
       "2  December 30, 2017      0  \n",
       "3  December 29, 2017      0  \n",
       "4  December 25, 2017      0  "
      ]
     },
     "execution_count": 155,
     "metadata": {},
     "output_type": "execute_result"
    }
   ],
   "source": [
    "df.head()"
   ]
  },
  {
   "cell_type": "code",
   "execution_count": 156,
   "id": "6a5f3186",
   "metadata": {},
   "outputs": [
    {
     "name": "stdout",
     "output_type": "stream",
     "text": [
      "<class 'pandas.core.frame.DataFrame'>\n",
      "RangeIndex: 44898 entries, 0 to 44897\n",
      "Data columns (total 5 columns):\n",
      " #   Column   Non-Null Count  Dtype \n",
      "---  ------   --------------  ----- \n",
      " 0   title    44898 non-null  object\n",
      " 1   text     44898 non-null  object\n",
      " 2   subject  44898 non-null  object\n",
      " 3   date     44898 non-null  object\n",
      " 4   label    44898 non-null  int64 \n",
      "dtypes: int64(1), object(4)\n",
      "memory usage: 1.7+ MB\n"
     ]
    }
   ],
   "source": [
    "df.info()"
   ]
  },
  {
   "cell_type": "code",
   "execution_count": 157,
   "id": "bb2a60e3",
   "metadata": {},
   "outputs": [
    {
     "data": {
      "text/html": [
       "<div>\n",
       "<style scoped>\n",
       "    .dataframe tbody tr th:only-of-type {\n",
       "        vertical-align: middle;\n",
       "    }\n",
       "\n",
       "    .dataframe tbody tr th {\n",
       "        vertical-align: top;\n",
       "    }\n",
       "\n",
       "    .dataframe thead th {\n",
       "        text-align: right;\n",
       "    }\n",
       "</style>\n",
       "<table border=\"1\" class=\"dataframe\">\n",
       "  <thead>\n",
       "    <tr style=\"text-align: right;\">\n",
       "      <th></th>\n",
       "      <th>label</th>\n",
       "    </tr>\n",
       "  </thead>\n",
       "  <tbody>\n",
       "    <tr>\n",
       "      <th>count</th>\n",
       "      <td>44898.000000</td>\n",
       "    </tr>\n",
       "    <tr>\n",
       "      <th>mean</th>\n",
       "      <td>0.477015</td>\n",
       "    </tr>\n",
       "    <tr>\n",
       "      <th>std</th>\n",
       "      <td>0.499477</td>\n",
       "    </tr>\n",
       "    <tr>\n",
       "      <th>min</th>\n",
       "      <td>0.000000</td>\n",
       "    </tr>\n",
       "    <tr>\n",
       "      <th>25%</th>\n",
       "      <td>0.000000</td>\n",
       "    </tr>\n",
       "    <tr>\n",
       "      <th>50%</th>\n",
       "      <td>0.000000</td>\n",
       "    </tr>\n",
       "    <tr>\n",
       "      <th>75%</th>\n",
       "      <td>1.000000</td>\n",
       "    </tr>\n",
       "    <tr>\n",
       "      <th>max</th>\n",
       "      <td>1.000000</td>\n",
       "    </tr>\n",
       "  </tbody>\n",
       "</table>\n",
       "</div>"
      ],
      "text/plain": [
       "              label\n",
       "count  44898.000000\n",
       "mean       0.477015\n",
       "std        0.499477\n",
       "min        0.000000\n",
       "25%        0.000000\n",
       "50%        0.000000\n",
       "75%        1.000000\n",
       "max        1.000000"
      ]
     },
     "execution_count": 157,
     "metadata": {},
     "output_type": "execute_result"
    }
   ],
   "source": [
    "df.describe()"
   ]
  },
  {
   "cell_type": "markdown",
   "id": "dbbce93c",
   "metadata": {},
   "source": [
    "### Step 2. Preprocessing "
   ]
  },
  {
   "cell_type": "markdown",
   "id": "868bbf15",
   "metadata": {},
   "source": [
    "### 1. Handling Missing Values"
   ]
  },
  {
   "cell_type": "code",
   "execution_count": 158,
   "id": "84c7e416",
   "metadata": {},
   "outputs": [
    {
     "data": {
      "text/plain": [
       "title      0\n",
       "text       0\n",
       "subject    0\n",
       "date       0\n",
       "label      0\n",
       "dtype: int64"
      ]
     },
     "execution_count": 158,
     "metadata": {},
     "output_type": "execute_result"
    }
   ],
   "source": [
    "df.isnull().sum()   # no missing values founds"
   ]
  },
  {
   "cell_type": "markdown",
   "id": "9bc635dc",
   "metadata": {},
   "source": [
    "### 2. Identify Outliers and remove"
   ]
  },
  {
   "cell_type": "code",
   "execution_count": 159,
   "id": "a823c8ed",
   "metadata": {},
   "outputs": [
    {
     "data": {
      "image/png": "[encoded data removed]",
      "text/plain": [
       "<Figure size 640x480 with 1 Axes>"
      ]
     },
     "metadata": {},
     "output_type": "display_data"
    }
   ],
   "source": [
    "sns.countplot(x='label', data=df)\n",
    "plt.title('Label Distribution (0 = Fake, 1 = Real)')\n",
    "plt.show()\n",
    "\n",
    "\n",
    "# We skip scaling because text features like title, text, and subject \n",
    "# are not numeric — they’ll be handled using NLP."
   ]
  },
  {
   "cell_type": "markdown",
   "id": "3c08ce3b",
   "metadata": {},
   "source": [
    "### Step 3: Combine Text Columns"
   ]
  },
  {
   "cell_type": "code",
   "execution_count": 160,
   "id": "317ecd8c",
   "metadata": {},
   "outputs": [],
   "source": [
    "\n",
    "df[\"content\"] = df[\"title\"].astype(str) + \"  \" + df[\"subject\"].astype(str) + \"  \" + df[\"text\"].astype(str)"
   ]
  },
  {
   "cell_type": "markdown",
   "id": "814a60dd",
   "metadata": {},
   "source": [
    "###  Step 4: NLP Preprocessing"
   ]
  },
  {
   "cell_type": "code",
   "execution_count": 161,
   "id": "7b6cd1f1",
   "metadata": {},
   "outputs": [],
   "source": [
    "stop_words = set(stopwords.words('english'))\n",
    "lemmatizer = WordNetLemmatizer()\n"
   ]
  },
  {
   "cell_type": "code",
   "execution_count": 162,
   "id": "bdeda69e",
   "metadata": {},
   "outputs": [
    {
     "data": {
      "text/html": [
       "<div>\n",
       "<style scoped>\n",
       "    .dataframe tbody tr th:only-of-type {\n",
       "        vertical-align: middle;\n",
       "    }\n",
       "\n",
       "    .dataframe tbody tr th {\n",
       "        vertical-align: top;\n",
       "    }\n",
       "\n",
       "    .dataframe thead th {\n",
       "        text-align: right;\n",
       "    }\n",
       "</style>\n",
       "<table border=\"1\" class=\"dataframe\">\n",
       "  <thead>\n",
       "    <tr style=\"text-align: right;\">\n",
       "      <th></th>\n",
       "      <th>title</th>\n",
       "      <th>text</th>\n",
       "      <th>subject</th>\n",
       "      <th>date</th>\n",
       "      <th>label</th>\n",
       "      <th>content</th>\n",
       "    </tr>\n",
       "  </thead>\n",
       "  <tbody>\n",
       "    <tr>\n",
       "      <th>0</th>\n",
       "      <td>Donald Trump Sends Out Embarrassing New Year’...</td>\n",
       "      <td>Donald Trump just couldn t wish all Americans ...</td>\n",
       "      <td>News</td>\n",
       "      <td>December 31, 2017</td>\n",
       "      <td>0</td>\n",
       "      <td>Donald Trump Sends Out Embarrassing New Year’...</td>\n",
       "    </tr>\n",
       "    <tr>\n",
       "      <th>1</th>\n",
       "      <td>Drunk Bragging Trump Staffer Started Russian ...</td>\n",
       "      <td>House Intelligence Committee Chairman Devin Nu...</td>\n",
       "      <td>News</td>\n",
       "      <td>December 31, 2017</td>\n",
       "      <td>0</td>\n",
       "      <td>Drunk Bragging Trump Staffer Started Russian ...</td>\n",
       "    </tr>\n",
       "    <tr>\n",
       "      <th>2</th>\n",
       "      <td>Sheriff David Clarke Becomes An Internet Joke...</td>\n",
       "      <td>On Friday, it was revealed that former Milwauk...</td>\n",
       "      <td>News</td>\n",
       "      <td>December 30, 2017</td>\n",
       "      <td>0</td>\n",
       "      <td>Sheriff David Clarke Becomes An Internet Joke...</td>\n",
       "    </tr>\n",
       "    <tr>\n",
       "      <th>3</th>\n",
       "      <td>Trump Is So Obsessed He Even Has Obama’s Name...</td>\n",
       "      <td>On Christmas day, Donald Trump announced that ...</td>\n",
       "      <td>News</td>\n",
       "      <td>December 29, 2017</td>\n",
       "      <td>0</td>\n",
       "      <td>Trump Is So Obsessed He Even Has Obama’s Name...</td>\n",
       "    </tr>\n",
       "    <tr>\n",
       "      <th>4</th>\n",
       "      <td>Pope Francis Just Called Out Donald Trump Dur...</td>\n",
       "      <td>Pope Francis used his annual Christmas Day mes...</td>\n",
       "      <td>News</td>\n",
       "      <td>December 25, 2017</td>\n",
       "      <td>0</td>\n",
       "      <td>Pope Francis Just Called Out Donald Trump Dur...</td>\n",
       "    </tr>\n",
       "  </tbody>\n",
       "</table>\n",
       "</div>"
      ],
      "text/plain": [
       "                                               title  \\\n",
       "0   Donald Trump Sends Out Embarrassing New Year’...   \n",
       "1   Drunk Bragging Trump Staffer Started Russian ...   \n",
       "2   Sheriff David Clarke Becomes An Internet Joke...   \n",
       "3   Trump Is So Obsessed He Even Has Obama’s Name...   \n",
       "4   Pope Francis Just Called Out Donald Trump Dur...   \n",
       "\n",
       "                                                text subject  \\\n",
       "0  Donald Trump just couldn t wish all Americans ...    News   \n",
       "1  House Intelligence Committee Chairman Devin Nu...    News   \n",
       "2  On Friday, it was revealed that former Milwauk...    News   \n",
       "3  On Christmas day, Donald Trump announced that ...    News   \n",
       "4  Pope Francis used his annual Christmas Day mes...    News   \n",
       "\n",
       "                date  label                                            content  \n",
       "0  December 31, 2017      0   Donald Trump Sends Out Embarrassing New Year’...  \n",
       "1  December 31, 2017      0   Drunk Bragging Trump Staffer Started Russian ...  \n",
       "2  December 30, 2017      0   Sheriff David Clarke Becomes An Internet Joke...  \n",
       "3  December 29, 2017      0   Trump Is So Obsessed He Even Has Obama’s Name...  \n",
       "4  December 25, 2017      0   Pope Francis Just Called Out Donald Trump Dur...  "
      ]
     },
     "execution_count": 162,
     "metadata": {},
     "output_type": "execute_result"
    }
   ],
   "source": [
    "df.head()"
   ]
  },
  {
   "cell_type": "code",
   "execution_count": 163,
   "id": "6f852a87",
   "metadata": {},
   "outputs": [],
   "source": [
    "def preprocess_text(text):\n",
    "    if not isinstance(text, str):\n",
    "        return \"\"\n",
    "    \n",
    "    text = text.lower()\n",
    "    text = re.sub(r'\\[.*?\\]', '', text)\n",
    "    text = re.sub(r'https?://\\S+|www\\.\\S+', '', text)\n",
    "    text = re.sub(r'<.*?>+', '', text)\n",
    "    text = re.sub(r'[%s]' % re.escape(string.punctuation), '', text)\n",
    "    text = re.sub(r'\\n', ' ', text)\n",
    "    text = re.sub(r'\\w*\\d\\w*', '', text)\n",
    "    \n",
    "    tokens = word_tokenize(text)\n",
    "    tokens = [word for word in tokens if word not in stop_words and word.isalpha()]\n",
    "    tokens = [lemmatizer.lemmatize(word) for word in tokens]\n",
    "    \n",
    "    return \" \".join(tokens)\n"
   ]
  },
  {
   "cell_type": "code",
   "execution_count": 164,
   "id": "3219323e",
   "metadata": {},
   "outputs": [
    {
     "data": {
      "text/plain": [
       "0     Donald Trump Sends Out Embarrassing New Year’...\n",
       "1     Drunk Bragging Trump Staffer Started Russian ...\n",
       "2     Sheriff David Clarke Becomes An Internet Joke...\n",
       "3     Trump Is So Obsessed He Even Has Obama’s Name...\n",
       "4     Pope Francis Just Called Out Donald Trump Dur...\n",
       "Name: content, dtype: object"
      ]
     },
     "execution_count": 164,
     "metadata": {},
     "output_type": "execute_result"
    }
   ],
   "source": [
    "df[\"content\"].head()"
   ]
  },
  {
   "cell_type": "code",
   "execution_count": null,
   "id": "405c382a",
   "metadata": {},
   "outputs": [
    {
     "name": "stdout",
     "output_type": "stream",
     "text": [
      "Starting text preprocessing...\n"
     ]
    },
    {
     "data": {
      "text/plain": [
       "0    donald trump sends embarrassing new year eve m...\n",
       "1    drunk bragging trump staffer started russian c...\n",
       "2    sheriff david clarke becomes internet joke thr...\n",
       "3    trump obsessed even obama name coded website i...\n",
       "4    pope francis called donald trump christmas spe...\n",
       "Name: processed_content, dtype: object"
      ]
     },
     "execution_count": 165,
     "metadata": {},
     "output_type": "execute_result"
    }
   ],
   "source": [
    "\n",
    "# Apply preprocessing\n",
    "print(\"Starting text preprocessing...\")\n",
    "df['processed_content'] = df['content'].apply(preprocess_text)\n"
   ]
  },
  {
   "cell_type": "code",
   "execution_count": 166,
   "id": "f9991737",
   "metadata": {},
   "outputs": [
    {
     "data": {
      "text/plain": [
       "0    donald trump sends embarrassing new year eve m...\n",
       "1    drunk bragging trump staffer started russian c...\n",
       "2    sheriff david clarke becomes internet joke thr...\n",
       "3    trump obsessed even obama name coded website i...\n",
       "4    pope francis called donald trump christmas spe...\n",
       "Name: processed_content, dtype: object"
      ]
     },
     "execution_count": 166,
     "metadata": {},
     "output_type": "execute_result"
    }
   ],
   "source": [
    "df['processed_content'].head()"
   ]
  },
  {
   "cell_type": "markdown",
   "id": "055e5ec2",
   "metadata": {},
   "source": [
    "### Step 5: Feature Extraction (TF-IDF)"
   ]
  },
  {
   "cell_type": "code",
   "execution_count": null,
   "id": "a81dc879",
   "metadata": {},
   "outputs": [
    {
     "name": "stdout",
     "output_type": "stream",
     "text": [
      "Starting TF-IDF vectorization...\n",
      "TF-IDF vectorization complete. Shape of X: (44898, 5000)\n"
     ]
    }
   ],
   "source": [
    "\n",
    "print(\"Starting TF-IDF vectorization...\")\n",
    "# Initialize TF-IDF Vectorizer\n",
    "# You can experiment with parameters like max_features, ngram_range, etc.\n",
    "tfidf_vectorizer = TfidfVectorizer(max_features=5000) # Limiting features to 5000 for efficiency\n",
    "\n",
    "# Fit and transform the 'processed_content' column\n",
    "x = tfidf_vectorizer.fit_transform(df['processed_content'])\n",
    "y = df['label'] # Our target variable\n",
    "\n",
    "print(\"TF-IDF vectorization complete. Shape of X:\", x.shape)\n"
   ]
  },
  {
   "cell_type": "markdown",
   "id": "b4a76585",
   "metadata": {},
   "source": [
    "### Step 6: Split Data"
   ]
  },
  {
   "cell_type": "code",
   "execution_count": 176,
   "id": "4473dbcf",
   "metadata": {},
   "outputs": [],
   "source": [
    "# Split data into training and testing sets\n",
    "\n",
    "x_train , x_test , y_train , y_test = train_test_split(x , y , test_size=0.2 , random_state=42)"
   ]
  }
 ],
 "metadata": {
  "kernelspec": {
   "display_name": "Python 3",
   "language": "python",
   "name": "python3"
  },
  "language_info": {
   "codemirror_mode": {
    "name": "ipython",
    "version": 3
   },
   "file_extension": ".py",
   "mimetype": "text/x-python",
   "name": "python",
   "nbconvert_exporter": "python",
   "pygments_lexer": "ipython3",
   "version": "3.8.0"
  }
 },
 "nbformat": 4,
 "nbformat_minor": 5
}
